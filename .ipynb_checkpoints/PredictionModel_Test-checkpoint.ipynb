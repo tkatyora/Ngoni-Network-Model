{
 "cells": [
  {
   "cell_type": "code",
   "execution_count": 4,
   "id": "c1343208",
   "metadata": {},
   "outputs": [
    {
     "data": {
      "text/plain": [
       "(1048575, 87)"
      ]
     },
     "execution_count": 4,
     "metadata": {},
     "output_type": "execute_result"
    }
   ],
   "source": [
    "import pandas as pd\n",
    "\n",
    "\n",
    "df = pd.read_csv('Dataset-Unicauca-Version2-87Atts.csv')\n",
    "df.head(n=5)\n",
    "df.shape"
   ]
  },
  {
   "cell_type": "code",
   "execution_count": 2,
   "id": "403668ee",
   "metadata": {},
   "outputs": [
    {
     "ename": "SyntaxError",
     "evalue": "(unicode error) 'unicodeescape' codec can't decode bytes in position 2-3: truncated \\UXXXXXXXX escape (631791266.py, line 4)",
     "output_type": "error",
     "traceback": [
      "\u001b[1;36m  Cell \u001b[1;32mIn[2], line 4\u001b[1;36m\u001b[0m\n\u001b[1;33m    df = pd.read_csv('C:\\Users\\DELL\\Documents\\Projects\\Data_set')\u001b[0m\n\u001b[1;37m                                                                ^\u001b[0m\n\u001b[1;31mSyntaxError\u001b[0m\u001b[1;31m:\u001b[0m (unicode error) 'unicodeescape' codec can't decode bytes in position 2-3: truncated \\UXXXXXXXX escape\n"
     ]
    }
   ],
   "source": [
    "import pandas as pd\n",
    "\n",
    "\n",
    "df = pd.read_csv('C:/Users/DELL/Documents/Projects/Data_set')\n",
    "df.head(n=5)\n"
   ]
  },
  {
   "cell_type": "code",
   "execution_count": null,
   "id": "945973d2",
   "metadata": {},
   "outputs": [],
   "source": []
  },
  {
   "cell_type": "code",
   "execution_count": null,
   "id": "33653336",
   "metadata": {},
   "outputs": [],
   "source": []
  },
  {
   "cell_type": "code",
   "execution_count": null,
   "id": "9eb6db8a",
   "metadata": {},
   "outputs": [],
   "source": []
  },
  {
   "cell_type": "code",
   "execution_count": null,
   "id": "4c197ec4",
   "metadata": {},
   "outputs": [],
   "source": []
  },
  {
   "cell_type": "code",
   "execution_count": null,
   "id": "c74923a7",
   "metadata": {},
   "outputs": [],
   "source": []
  },
  {
   "cell_type": "code",
   "execution_count": null,
   "id": "68087aad",
   "metadata": {},
   "outputs": [],
   "source": []
  },
  {
   "cell_type": "code",
   "execution_count": null,
   "id": "6086cb81",
   "metadata": {},
   "outputs": [],
   "source": []
  },
  {
   "cell_type": "code",
   "execution_count": null,
   "id": "a309b6e5",
   "metadata": {},
   "outputs": [],
   "source": []
  },
  {
   "cell_type": "code",
   "execution_count": null,
   "id": "014b0546",
   "metadata": {},
   "outputs": [],
   "source": []
  },
  {
   "cell_type": "code",
   "execution_count": 5,
   "id": "67658f82",
   "metadata": {},
   "outputs": [
    {
     "data": {
      "text/html": [
       "<div>\n",
       "<style scoped>\n",
       "    .dataframe tbody tr th:only-of-type {\n",
       "        vertical-align: middle;\n",
       "    }\n",
       "\n",
       "    .dataframe tbody tr th {\n",
       "        vertical-align: top;\n",
       "    }\n",
       "\n",
       "    .dataframe thead th {\n",
       "        text-align: right;\n",
       "    }\n",
       "</style>\n",
       "<table border=\"1\" class=\"dataframe\">\n",
       "  <thead>\n",
       "    <tr style=\"text-align: right;\">\n",
       "      <th></th>\n",
       "      <th>Flow.ID</th>\n",
       "      <th>Source.IP</th>\n",
       "      <th>Source.Port</th>\n",
       "      <th>Destination.IP</th>\n",
       "      <th>Destination.Port</th>\n",
       "      <th>Protocol</th>\n",
       "      <th>Timestamp</th>\n",
       "      <th>Flow.Duration</th>\n",
       "      <th>Total.Fwd.Packets</th>\n",
       "      <th>Total.Backward.Packets</th>\n",
       "      <th>...</th>\n",
       "      <th>Active.Std</th>\n",
       "      <th>Active.Max</th>\n",
       "      <th>Active.Min</th>\n",
       "      <th>Idle.Mean</th>\n",
       "      <th>Idle.Std</th>\n",
       "      <th>Idle.Max</th>\n",
       "      <th>Idle.Min</th>\n",
       "      <th>Label</th>\n",
       "      <th>L7Protocol</th>\n",
       "      <th>ProtocolName</th>\n",
       "    </tr>\n",
       "  </thead>\n",
       "  <tbody>\n",
       "    <tr>\n",
       "      <th>0</th>\n",
       "      <td>172.19.1.46-10.200.7.7-52422-3128-6</td>\n",
       "      <td>172.19.1.46</td>\n",
       "      <td>52422</td>\n",
       "      <td>10.200.7.7</td>\n",
       "      <td>3128</td>\n",
       "      <td>6</td>\n",
       "      <td>26/04/201711:11:17</td>\n",
       "      <td>45523</td>\n",
       "      <td>22</td>\n",
       "      <td>55</td>\n",
       "      <td>...</td>\n",
       "      <td>0.0</td>\n",
       "      <td>0</td>\n",
       "      <td>0.0</td>\n",
       "      <td>0.0</td>\n",
       "      <td>0.0</td>\n",
       "      <td>0.0</td>\n",
       "      <td>0.0</td>\n",
       "      <td>BENIGN</td>\n",
       "      <td>131</td>\n",
       "      <td>HTTP_PROXY</td>\n",
       "    </tr>\n",
       "    <tr>\n",
       "      <th>1</th>\n",
       "      <td>172.19.1.46-10.200.7.7-52422-3128-6</td>\n",
       "      <td>10.200.7.7</td>\n",
       "      <td>3128</td>\n",
       "      <td>172.19.1.46</td>\n",
       "      <td>52422</td>\n",
       "      <td>6</td>\n",
       "      <td>26/04/201711:11:17</td>\n",
       "      <td>1</td>\n",
       "      <td>2</td>\n",
       "      <td>0</td>\n",
       "      <td>...</td>\n",
       "      <td>0.0</td>\n",
       "      <td>0</td>\n",
       "      <td>0.0</td>\n",
       "      <td>0.0</td>\n",
       "      <td>0.0</td>\n",
       "      <td>0.0</td>\n",
       "      <td>0.0</td>\n",
       "      <td>BENIGN</td>\n",
       "      <td>131</td>\n",
       "      <td>HTTP_PROXY</td>\n",
       "    </tr>\n",
       "    <tr>\n",
       "      <th>2</th>\n",
       "      <td>10.200.7.217-50.31.185.39-38848-80-6</td>\n",
       "      <td>50.31.185.39</td>\n",
       "      <td>80</td>\n",
       "      <td>10.200.7.217</td>\n",
       "      <td>38848</td>\n",
       "      <td>6</td>\n",
       "      <td>26/04/201711:11:17</td>\n",
       "      <td>1</td>\n",
       "      <td>3</td>\n",
       "      <td>0</td>\n",
       "      <td>...</td>\n",
       "      <td>0.0</td>\n",
       "      <td>0</td>\n",
       "      <td>0.0</td>\n",
       "      <td>0.0</td>\n",
       "      <td>0.0</td>\n",
       "      <td>0.0</td>\n",
       "      <td>0.0</td>\n",
       "      <td>BENIGN</td>\n",
       "      <td>7</td>\n",
       "      <td>HTTP</td>\n",
       "    </tr>\n",
       "    <tr>\n",
       "      <th>3</th>\n",
       "      <td>10.200.7.217-50.31.185.39-38848-80-6</td>\n",
       "      <td>50.31.185.39</td>\n",
       "      <td>80</td>\n",
       "      <td>10.200.7.217</td>\n",
       "      <td>38848</td>\n",
       "      <td>6</td>\n",
       "      <td>26/04/201711:11:17</td>\n",
       "      <td>217</td>\n",
       "      <td>1</td>\n",
       "      <td>3</td>\n",
       "      <td>...</td>\n",
       "      <td>0.0</td>\n",
       "      <td>0</td>\n",
       "      <td>0.0</td>\n",
       "      <td>0.0</td>\n",
       "      <td>0.0</td>\n",
       "      <td>0.0</td>\n",
       "      <td>0.0</td>\n",
       "      <td>BENIGN</td>\n",
       "      <td>7</td>\n",
       "      <td>HTTP</td>\n",
       "    </tr>\n",
       "    <tr>\n",
       "      <th>4</th>\n",
       "      <td>192.168.72.43-10.200.7.7-55961-3128-6</td>\n",
       "      <td>192.168.72.43</td>\n",
       "      <td>55961</td>\n",
       "      <td>10.200.7.7</td>\n",
       "      <td>3128</td>\n",
       "      <td>6</td>\n",
       "      <td>26/04/201711:11:17</td>\n",
       "      <td>78068</td>\n",
       "      <td>5</td>\n",
       "      <td>0</td>\n",
       "      <td>...</td>\n",
       "      <td>0.0</td>\n",
       "      <td>0</td>\n",
       "      <td>0.0</td>\n",
       "      <td>0.0</td>\n",
       "      <td>0.0</td>\n",
       "      <td>0.0</td>\n",
       "      <td>0.0</td>\n",
       "      <td>BENIGN</td>\n",
       "      <td>131</td>\n",
       "      <td>HTTP_PROXY</td>\n",
       "    </tr>\n",
       "  </tbody>\n",
       "</table>\n",
       "<p>5 rows × 87 columns</p>\n",
       "</div>"
      ],
      "text/plain": [
       "                                 Flow.ID      Source.IP  Source.Port  \\\n",
       "0    172.19.1.46-10.200.7.7-52422-3128-6    172.19.1.46        52422   \n",
       "1    172.19.1.46-10.200.7.7-52422-3128-6     10.200.7.7         3128   \n",
       "2   10.200.7.217-50.31.185.39-38848-80-6   50.31.185.39           80   \n",
       "3   10.200.7.217-50.31.185.39-38848-80-6   50.31.185.39           80   \n",
       "4  192.168.72.43-10.200.7.7-55961-3128-6  192.168.72.43        55961   \n",
       "\n",
       "  Destination.IP  Destination.Port  Protocol           Timestamp  \\\n",
       "0     10.200.7.7              3128         6  26/04/201711:11:17   \n",
       "1    172.19.1.46             52422         6  26/04/201711:11:17   \n",
       "2   10.200.7.217             38848         6  26/04/201711:11:17   \n",
       "3   10.200.7.217             38848         6  26/04/201711:11:17   \n",
       "4     10.200.7.7              3128         6  26/04/201711:11:17   \n",
       "\n",
       "   Flow.Duration  Total.Fwd.Packets  Total.Backward.Packets  ...  Active.Std  \\\n",
       "0          45523                 22                      55  ...         0.0   \n",
       "1              1                  2                       0  ...         0.0   \n",
       "2              1                  3                       0  ...         0.0   \n",
       "3            217                  1                       3  ...         0.0   \n",
       "4          78068                  5                       0  ...         0.0   \n",
       "\n",
       "   Active.Max  Active.Min  Idle.Mean  Idle.Std  Idle.Max  Idle.Min   Label  \\\n",
       "0           0         0.0        0.0       0.0       0.0       0.0  BENIGN   \n",
       "1           0         0.0        0.0       0.0       0.0       0.0  BENIGN   \n",
       "2           0         0.0        0.0       0.0       0.0       0.0  BENIGN   \n",
       "3           0         0.0        0.0       0.0       0.0       0.0  BENIGN   \n",
       "4           0         0.0        0.0       0.0       0.0       0.0  BENIGN   \n",
       "\n",
       "   L7Protocol  ProtocolName  \n",
       "0         131    HTTP_PROXY  \n",
       "1         131    HTTP_PROXY  \n",
       "2           7          HTTP  \n",
       "3           7          HTTP  \n",
       "4         131    HTTP_PROXY  \n",
       "\n",
       "[5 rows x 87 columns]"
      ]
     },
     "execution_count": 5,
     "metadata": {},
     "output_type": "execute_result"
    }
   ],
   "source": [
    "import pandas as pd\n",
    "\n",
    "\n",
    "df = pd.read_csv('Dataset-Unicauca-Version2-87Atts.csv')\n",
    "df.head(n=5)"
   ]
  },
  {
   "cell_type": "code",
   "execution_count": 7,
   "id": "63ea1dfa",
   "metadata": {},
   "outputs": [
    {
     "name": "stdout",
     "output_type": "stream",
     "text": [
      "<class 'pandas.core.frame.DataFrame'>\n",
      "RangeIndex: 1048575 entries, 0 to 1048574\n",
      "Data columns (total 87 columns):\n",
      " #   Column                       Non-Null Count    Dtype  \n",
      "---  ------                       --------------    -----  \n",
      " 0   Flow.ID                      1048575 non-null  object \n",
      " 1   Source.IP                    1048575 non-null  object \n",
      " 2   Source.Port                  1048575 non-null  int64  \n",
      " 3   Destination.IP               1048575 non-null  object \n",
      " 4   Destination.Port             1048575 non-null  int64  \n",
      " 5   Protocol                     1048575 non-null  int64  \n",
      " 6   Timestamp                    1048575 non-null  object \n",
      " 7   Flow.Duration                1048575 non-null  int64  \n",
      " 8   Total.Fwd.Packets            1048575 non-null  int64  \n",
      " 9   Total.Backward.Packets       1048575 non-null  int64  \n",
      " 10  Total.Length.of.Fwd.Packets  1048575 non-null  int64  \n",
      " 11  Total.Length.of.Bwd.Packets  1048575 non-null  float64\n",
      " 12  Fwd.Packet.Length.Max        1048575 non-null  int64  \n",
      " 13  Fwd.Packet.Length.Min        1048575 non-null  int64  \n",
      " 14  Fwd.Packet.Length.Mean       1048575 non-null  float64\n",
      " 15  Fwd.Packet.Length.Std        1048575 non-null  float64\n",
      " 16  Bwd.Packet.Length.Max        1048575 non-null  int64  \n",
      " 17  Bwd.Packet.Length.Min        1048575 non-null  int64  \n",
      " 18  Bwd.Packet.Length.Mean       1048575 non-null  float64\n",
      " 19  Bwd.Packet.Length.Std        1048575 non-null  float64\n",
      " 20  Flow.Bytes.s                 1048575 non-null  float64\n",
      " 21  Flow.Packets.s               1048575 non-null  float64\n",
      " 22  Flow.IAT.Mean                1048575 non-null  float64\n",
      " 23  Flow.IAT.Std                 1048575 non-null  float64\n",
      " 24  Flow.IAT.Max                 1048575 non-null  float64\n",
      " 25  Flow.IAT.Min                 1048575 non-null  int64  \n",
      " 26  Fwd.IAT.Total                1048575 non-null  float64\n",
      " 27  Fwd.IAT.Mean                 1048575 non-null  float64\n",
      " 28  Fwd.IAT.Std                  1048575 non-null  float64\n",
      " 29  Fwd.IAT.Max                  1048575 non-null  float64\n",
      " 30  Fwd.IAT.Min                  1048575 non-null  float64\n",
      " 31  Bwd.IAT.Total                1048575 non-null  float64\n",
      " 32  Bwd.IAT.Mean                 1048575 non-null  float64\n",
      " 33  Bwd.IAT.Std                  1048575 non-null  float64\n",
      " 34  Bwd.IAT.Max                  1048575 non-null  float64\n",
      " 35  Bwd.IAT.Min                  1048575 non-null  float64\n",
      " 36  Fwd.PSH.Flags                1048575 non-null  int64  \n",
      " 37  Bwd.PSH.Flags                1048575 non-null  int64  \n",
      " 38  Fwd.URG.Flags                1048575 non-null  int64  \n",
      " 39  Bwd.URG.Flags                1048575 non-null  int64  \n",
      " 40  Fwd.Header.Length            1048575 non-null  int64  \n",
      " 41  Bwd.Header.Length            1048575 non-null  int64  \n",
      " 42  Fwd.Packets.s                1048575 non-null  float64\n",
      " 43  Bwd.Packets.s                1048575 non-null  float64\n",
      " 44  Min.Packet.Length            1048575 non-null  int64  \n",
      " 45  Max.Packet.Length            1048575 non-null  int64  \n",
      " 46  Packet.Length.Mean           1048575 non-null  float64\n",
      " 47  Packet.Length.Std            1048575 non-null  float64\n",
      " 48  Packet.Length.Variance       1048575 non-null  float64\n",
      " 49  FIN.Flag.Count               1048575 non-null  int64  \n",
      " 50  SYN.Flag.Count               1048575 non-null  int64  \n",
      " 51  RST.Flag.Count               1048575 non-null  int64  \n",
      " 52  PSH.Flag.Count               1048575 non-null  int64  \n",
      " 53  ACK.Flag.Count               1048575 non-null  int64  \n",
      " 54  URG.Flag.Count               1048575 non-null  int64  \n",
      " 55  CWE.Flag.Count               1048575 non-null  int64  \n",
      " 56  ECE.Flag.Count               1048575 non-null  int64  \n",
      " 57  Down.Up.Ratio                1048575 non-null  int64  \n",
      " 58  Average.Packet.Size          1048575 non-null  float64\n",
      " 59  Avg.Fwd.Segment.Size         1048575 non-null  float64\n",
      " 60  Avg.Bwd.Segment.Size         1048575 non-null  float64\n",
      " 61  Fwd.Header.Length.1          1048575 non-null  int64  \n",
      " 62  Fwd.Avg.Bytes.Bulk           1048575 non-null  int64  \n",
      " 63  Fwd.Avg.Packets.Bulk         1048575 non-null  int64  \n",
      " 64  Fwd.Avg.Bulk.Rate            1048575 non-null  int64  \n",
      " 65  Bwd.Avg.Bytes.Bulk           1048575 non-null  int64  \n",
      " 66  Bwd.Avg.Packets.Bulk         1048575 non-null  int64  \n",
      " 67  Bwd.Avg.Bulk.Rate            1048575 non-null  int64  \n",
      " 68  Subflow.Fwd.Packets          1048575 non-null  int64  \n",
      " 69  Subflow.Fwd.Bytes            1048575 non-null  int64  \n",
      " 70  Subflow.Bwd.Packets          1048575 non-null  int64  \n",
      " 71  Subflow.Bwd.Bytes            1048575 non-null  int64  \n",
      " 72  Init_Win_bytes_forward       1048575 non-null  int64  \n",
      " 73  Init_Win_bytes_backward      1048575 non-null  int64  \n",
      " 74  act_data_pkt_fwd             1048575 non-null  int64  \n",
      " 75  min_seg_size_forward         1048575 non-null  int64  \n",
      " 76  Active.Mean                  1048575 non-null  float64\n",
      " 77  Active.Std                   1048575 non-null  float64\n",
      " 78  Active.Max                   1048575 non-null  int64  \n",
      " 79  Active.Min                   1048575 non-null  float64\n",
      " 80  Idle.Mean                    1048575 non-null  float64\n",
      " 81  Idle.Std                     1048575 non-null  float64\n",
      " 82  Idle.Max                     1048575 non-null  float64\n",
      " 83  Idle.Min                     1048575 non-null  float64\n",
      " 84  Label                        1048575 non-null  object \n",
      " 85  L7Protocol                   1048575 non-null  int64  \n",
      " 86  ProtocolName                 1048575 non-null  object \n",
      "dtypes: float64(35), int64(46), object(6)\n",
      "memory usage: 696.0+ MB\n"
     ]
    }
   ],
   "source": [
    "import pandas as pd\n",
    "\n",
    "\n",
    "df = pd.read_csv('Dataset-Unicauca-Version2-87Atts.csv')\n",
    "df.info()\n"
   ]
  },
  {
   "cell_type": "code",
   "execution_count": 9,
   "id": "3dde172a",
   "metadata": {},
   "outputs": [
    {
     "data": {
      "text/plain": [
       "(1048575, 87)"
      ]
     },
     "execution_count": 9,
     "metadata": {},
     "output_type": "execute_result"
    }
   ],
   "source": [
    "df.shape"
   ]
  },
  {
   "cell_type": "code",
   "execution_count": 5,
   "id": "5b1863f9",
   "metadata": {},
   "outputs": [
    {
     "data": {
      "text/plain": [
       "Source.IP       Source.Port  Destination.IP  Destination.Port\n",
       "10.200.7.4      3128         192.168.10.58   50555               199\n",
       "10.200.7.8      3128         192.168.180.14  52792               188\n",
       "10.200.7.5      3128         192.168.180.14  51613               176\n",
       "192.168.245.10  3128         192.168.180.16  55146               125\n",
       "10.200.7.4      52931        172.16.255.183  53                  110\n",
       "                                                                ... \n",
       "10.200.7.5      3128         192.168.72.43   55128                 1\n",
       "                                             55124                 1\n",
       "                                             55123                 1\n",
       "                                             55115                 1\n",
       "98.158.99.143   80           10.200.7.195    54310                 1\n",
       "Name: count, Length: 515715, dtype: int64"
      ]
     },
     "execution_count": 5,
     "metadata": {},
     "output_type": "execute_result"
    }
   ],
   "source": [
    "#Analysing the Source IP and The Source Port,destination ip ,destination port \n",
    "import pandas as pd\n",
    "\n",
    "\n",
    "df = pd.read_csv('Dataset-Unicauca-Version2-87Atts.csv')\n",
    "df[['Source.IP',\"Source.Port\",\"Destination.IP\",\"Destination.Port\"]].value_counts()\n"
   ]
  },
  {
   "cell_type": "code",
   "execution_count": 17,
   "id": "8b2601f6",
   "metadata": {},
   "outputs": [
    {
     "data": {
      "text/plain": [
       "Destination.IP\n",
       "10.200.7.7         101461\n",
       "10.200.7.8          80004\n",
       "10.200.7.9          53567\n",
       "10.200.7.5          53315\n",
       "10.200.7.4          45663\n",
       "                    ...  \n",
       "185.31.128.219          1\n",
       "173.194.143.45          1\n",
       "104.154.69.227          1\n",
       "74.125.155.172          1\n",
       "192.168.125.124         1\n",
       "Name: count, Length: 11488, dtype: int64"
      ]
     },
     "execution_count": 17,
     "metadata": {},
     "output_type": "execute_result"
    }
   ],
   "source": [
    "#to see the infomation that have the same valuesd\n",
    "\n",
    "df['Destination.IP'].value_counts()"
   ]
  },
  {
   "cell_type": "code",
   "execution_count": 18,
   "id": "77c16e6d",
   "metadata": {},
   "outputs": [
    {
     "data": {
      "text/plain": [
       "Source.IP\n",
       "10.200.7.217      93634\n",
       "10.200.7.218      79628\n",
       "10.200.7.199      61417\n",
       "10.200.7.195      60937\n",
       "10.200.7.194      59448\n",
       "                  ...  \n",
       "34.204.127.166        1\n",
       "38.106.10.133         1\n",
       "213.171.205.88        1\n",
       "208.92.55.74          1\n",
       "192.168.127.59        1\n",
       "Name: count, Length: 2893, dtype: int64"
      ]
     },
     "execution_count": 18,
     "metadata": {},
     "output_type": "execute_result"
    }
   ],
   "source": [
    "#showing the number of same IP in source ip\n",
    "\n",
    "df[\"Source.IP\"].value_counts()"
   ]
  },
  {
   "cell_type": "code",
   "execution_count": 10,
   "id": "ca6fdf1c",
   "metadata": {},
   "outputs": [
    {
     "data": {
      "text/html": [
       "<div>\n",
       "<style scoped>\n",
       "    .dataframe tbody tr th:only-of-type {\n",
       "        vertical-align: middle;\n",
       "    }\n",
       "\n",
       "    .dataframe tbody tr th {\n",
       "        vertical-align: top;\n",
       "    }\n",
       "\n",
       "    .dataframe thead th {\n",
       "        text-align: right;\n",
       "    }\n",
       "</style>\n",
       "<table border=\"1\" class=\"dataframe\">\n",
       "  <thead>\n",
       "    <tr style=\"text-align: right;\">\n",
       "      <th></th>\n",
       "      <th>Source.IP</th>\n",
       "      <th>Source.Port</th>\n",
       "      <th>Destination.IP</th>\n",
       "      <th>Destination.Port</th>\n",
       "      <th>ACK.Flag.Count</th>\n",
       "      <th>Total.Fwd.Packets</th>\n",
       "    </tr>\n",
       "  </thead>\n",
       "  <tbody>\n",
       "    <tr>\n",
       "      <th>0</th>\n",
       "      <td>172.19.1.46</td>\n",
       "      <td>52422</td>\n",
       "      <td>192.168.245.10</td>\n",
       "      <td>3128</td>\n",
       "      <td>1</td>\n",
       "      <td>22</td>\n",
       "    </tr>\n",
       "    <tr>\n",
       "      <th>1</th>\n",
       "      <td>192.168.245.10</td>\n",
       "      <td>3128</td>\n",
       "      <td>172.19.1.46</td>\n",
       "      <td>52422</td>\n",
       "      <td>1</td>\n",
       "      <td>2</td>\n",
       "    </tr>\n",
       "    <tr>\n",
       "      <th>2</th>\n",
       "      <td>50.31.185.39</td>\n",
       "      <td>80</td>\n",
       "      <td>10.200.7.217</td>\n",
       "      <td>38848</td>\n",
       "      <td>1</td>\n",
       "      <td>3</td>\n",
       "    </tr>\n",
       "    <tr>\n",
       "      <th>3</th>\n",
       "      <td>50.31.185.39</td>\n",
       "      <td>80</td>\n",
       "      <td>10.200.7.217</td>\n",
       "      <td>38848</td>\n",
       "      <td>1</td>\n",
       "      <td>1</td>\n",
       "    </tr>\n",
       "    <tr>\n",
       "      <th>4</th>\n",
       "      <td>192.168.72.43</td>\n",
       "      <td>55961</td>\n",
       "      <td>192.168.245.10</td>\n",
       "      <td>3128</td>\n",
       "      <td>1</td>\n",
       "      <td>5</td>\n",
       "    </tr>\n",
       "    <tr>\n",
       "      <th>5</th>\n",
       "      <td>10.200.7.6</td>\n",
       "      <td>3128</td>\n",
       "      <td>172.19.1.56</td>\n",
       "      <td>50004</td>\n",
       "      <td>1</td>\n",
       "      <td>136</td>\n",
       "    </tr>\n",
       "    <tr>\n",
       "      <th>6</th>\n",
       "      <td>192.168.72.43</td>\n",
       "      <td>55963</td>\n",
       "      <td>192.168.245.10</td>\n",
       "      <td>3128</td>\n",
       "      <td>1</td>\n",
       "      <td>5</td>\n",
       "    </tr>\n",
       "    <tr>\n",
       "      <th>7</th>\n",
       "      <td>192.168.10.47</td>\n",
       "      <td>51848</td>\n",
       "      <td>10.200.7.6</td>\n",
       "      <td>3128</td>\n",
       "      <td>0</td>\n",
       "      <td>3</td>\n",
       "    </tr>\n",
       "    <tr>\n",
       "      <th>8</th>\n",
       "      <td>68.67.178.197</td>\n",
       "      <td>443</td>\n",
       "      <td>10.200.7.217</td>\n",
       "      <td>57300</td>\n",
       "      <td>1</td>\n",
       "      <td>10</td>\n",
       "    </tr>\n",
       "    <tr>\n",
       "      <th>9</th>\n",
       "      <td>192.168.72.43</td>\n",
       "      <td>55977</td>\n",
       "      <td>192.168.245.10</td>\n",
       "      <td>3128</td>\n",
       "      <td>0</td>\n",
       "      <td>7</td>\n",
       "    </tr>\n",
       "    <tr>\n",
       "      <th>10</th>\n",
       "      <td>10.200.7.4</td>\n",
       "      <td>3128</td>\n",
       "      <td>192.168.180.51</td>\n",
       "      <td>57740</td>\n",
       "      <td>1</td>\n",
       "      <td>32</td>\n",
       "    </tr>\n",
       "    <tr>\n",
       "      <th>11</th>\n",
       "      <td>10.200.7.4</td>\n",
       "      <td>3128</td>\n",
       "      <td>192.168.180.51</td>\n",
       "      <td>57740</td>\n",
       "      <td>1</td>\n",
       "      <td>5</td>\n",
       "    </tr>\n",
       "    <tr>\n",
       "      <th>12</th>\n",
       "      <td>10.200.7.4</td>\n",
       "      <td>3128</td>\n",
       "      <td>192.168.180.51</td>\n",
       "      <td>57740</td>\n",
       "      <td>1</td>\n",
       "      <td>3</td>\n",
       "    </tr>\n",
       "    <tr>\n",
       "      <th>13</th>\n",
       "      <td>10.200.7.4</td>\n",
       "      <td>3128</td>\n",
       "      <td>192.168.180.51</td>\n",
       "      <td>57740</td>\n",
       "      <td>1</td>\n",
       "      <td>3</td>\n",
       "    </tr>\n",
       "    <tr>\n",
       "      <th>14</th>\n",
       "      <td>10.200.7.6</td>\n",
       "      <td>3128</td>\n",
       "      <td>172.19.1.45</td>\n",
       "      <td>50227</td>\n",
       "      <td>1</td>\n",
       "      <td>123</td>\n",
       "    </tr>\n",
       "  </tbody>\n",
       "</table>\n",
       "</div>"
      ],
      "text/plain": [
       "         Source.IP  Source.Port  Destination.IP  Destination.Port  \\\n",
       "0      172.19.1.46        52422  192.168.245.10              3128   \n",
       "1   192.168.245.10         3128     172.19.1.46             52422   \n",
       "2     50.31.185.39           80    10.200.7.217             38848   \n",
       "3     50.31.185.39           80    10.200.7.217             38848   \n",
       "4    192.168.72.43        55961  192.168.245.10              3128   \n",
       "5       10.200.7.6         3128     172.19.1.56             50004   \n",
       "6    192.168.72.43        55963  192.168.245.10              3128   \n",
       "7    192.168.10.47        51848      10.200.7.6              3128   \n",
       "8    68.67.178.197          443    10.200.7.217             57300   \n",
       "9    192.168.72.43        55977  192.168.245.10              3128   \n",
       "10      10.200.7.4         3128  192.168.180.51             57740   \n",
       "11      10.200.7.4         3128  192.168.180.51             57740   \n",
       "12      10.200.7.4         3128  192.168.180.51             57740   \n",
       "13      10.200.7.4         3128  192.168.180.51             57740   \n",
       "14      10.200.7.6         3128     172.19.1.45             50227   \n",
       "\n",
       "    ACK.Flag.Count  Total.Fwd.Packets  \n",
       "0                1                 22  \n",
       "1                1                  2  \n",
       "2                1                  3  \n",
       "3                1                  1  \n",
       "4                1                  5  \n",
       "5                1                136  \n",
       "6                1                  5  \n",
       "7                0                  3  \n",
       "8                1                 10  \n",
       "9                0                  7  \n",
       "10               1                 32  \n",
       "11               1                  5  \n",
       "12               1                  3  \n",
       "13               1                  3  \n",
       "14               1                123  "
      ]
     },
     "execution_count": 10,
     "metadata": {},
     "output_type": "execute_result"
    }
   ],
   "source": [
    "import pandas as pd\n",
    "\n",
    "\n",
    "df = pd.read_csv('Dataset-Unicauca-Version2-87Atts.csv')\n",
    "\n",
    "\n",
    "df[['Source.IP',\"Source.Port\",\"Destination.IP\",\"Destination.Port\",\"ACK.Flag.Count\",'Total.Fwd.Packets']].head(n=15)"
   ]
  },
  {
   "cell_type": "code",
   "execution_count": 4,
   "id": "cc7e2230",
   "metadata": {},
   "outputs": [
    {
     "ename": "NameError",
     "evalue": "name 'df' is not defined",
     "output_type": "error",
     "traceback": [
      "\u001b[1;31m---------------------------------------------------------------------------\u001b[0m",
      "\u001b[1;31mNameError\u001b[0m                                 Traceback (most recent call last)",
      "Cell \u001b[1;32mIn[4], line 2\u001b[0m\n\u001b[0;32m      1\u001b[0m \u001b[38;5;66;03m#checking if a certain IP exsited in the coulumn\u001b[39;00m\n\u001b[1;32m----> 2\u001b[0m \u001b[38;5;124m\"\u001b[39m\u001b[38;5;124m192.168.245.10\u001b[39m\u001b[38;5;124m\"\u001b[39m \u001b[38;5;129;01min\u001b[39;00m df[\u001b[38;5;124m\"\u001b[39m\u001b[38;5;124mSource.IP\u001b[39m\u001b[38;5;124m\"\u001b[39m]\n",
      "\u001b[1;31mNameError\u001b[0m: name 'df' is not defined"
     ]
    }
   ],
   "source": [
    "#checking if a certain IP exsited in the coulumn\n",
    "\"192.168.245.10\" in df[\"Source.IP\"]"
   ]
  },
  {
   "cell_type": "code",
   "execution_count": 22,
   "id": "97a82b4c",
   "metadata": {},
   "outputs": [
    {
     "data": {
      "text/plain": [
       "False"
      ]
     },
     "execution_count": 22,
     "metadata": {},
     "output_type": "execute_result"
    }
   ],
   "source": [
    "\"192.168.245.10\" in df[\"Destination.IP\"]"
   ]
  },
  {
   "cell_type": "code",
   "execution_count": 7,
   "id": "8a31bb6a",
   "metadata": {},
   "outputs": [
    {
     "data": {
      "text/plain": [
       "(1048575, 87)"
      ]
     },
     "execution_count": 7,
     "metadata": {},
     "output_type": "execute_result"
    }
   ],
   "source": [
    "df1 = df.copy()\n",
    "df1.shape"
   ]
  },
  {
   "cell_type": "code",
   "execution_count": 1,
   "id": "f3300aa7",
   "metadata": {},
   "outputs": [
    {
     "ename": "NameError",
     "evalue": "name 'df' is not defined",
     "output_type": "error",
     "traceback": [
      "\u001b[1;31m---------------------------------------------------------------------------\u001b[0m",
      "\u001b[1;31mNameError\u001b[0m                                 Traceback (most recent call last)",
      "Cell \u001b[1;32mIn[1], line 1\u001b[0m\n\u001b[1;32m----> 1\u001b[0m df\u001b[38;5;241m.\u001b[39misnull()\n",
      "\u001b[1;31mNameError\u001b[0m: name 'df' is not defined"
     ]
    }
   ],
   "source": [
    "df.isnull()"
   ]
  },
  {
   "cell_type": "code",
   "execution_count": 4,
   "id": "db2eab51",
   "metadata": {},
   "outputs": [
    {
     "data": {
      "text/plain": [
       "True"
      ]
     },
     "execution_count": 4,
     "metadata": {},
     "output_type": "execute_result"
    }
   ],
   "source": [
    "import pandas as pd\n",
    "\n",
    "\n",
    "df = pd.read_csv('Dataset-Unicauca-Version2-87Atts.csv')\n",
    "\n",
    "\n",
    "all(df[[]].isnull())"
   ]
  },
  {
   "cell_type": "code",
   "execution_count": 8,
   "id": "d9d5ddbc",
   "metadata": {},
   "outputs": [
    {
     "data": {
      "text/html": [
       "<div>\n",
       "<style scoped>\n",
       "    .dataframe tbody tr th:only-of-type {\n",
       "        vertical-align: middle;\n",
       "    }\n",
       "\n",
       "    .dataframe tbody tr th {\n",
       "        vertical-align: top;\n",
       "    }\n",
       "\n",
       "    .dataframe thead th {\n",
       "        text-align: right;\n",
       "    }\n",
       "</style>\n",
       "<table border=\"1\" class=\"dataframe\">\n",
       "  <thead>\n",
       "    <tr style=\"text-align: right;\">\n",
       "      <th></th>\n",
       "    </tr>\n",
       "  </thead>\n",
       "  <tbody>\n",
       "    <tr>\n",
       "      <th>0</th>\n",
       "    </tr>\n",
       "    <tr>\n",
       "      <th>1</th>\n",
       "    </tr>\n",
       "    <tr>\n",
       "      <th>2</th>\n",
       "    </tr>\n",
       "    <tr>\n",
       "      <th>3</th>\n",
       "    </tr>\n",
       "    <tr>\n",
       "      <th>4</th>\n",
       "    </tr>\n",
       "    <tr>\n",
       "      <th>...</th>\n",
       "    </tr>\n",
       "    <tr>\n",
       "      <th>1048570</th>\n",
       "    </tr>\n",
       "    <tr>\n",
       "      <th>1048571</th>\n",
       "    </tr>\n",
       "    <tr>\n",
       "      <th>1048572</th>\n",
       "    </tr>\n",
       "    <tr>\n",
       "      <th>1048573</th>\n",
       "    </tr>\n",
       "    <tr>\n",
       "      <th>1048574</th>\n",
       "    </tr>\n",
       "  </tbody>\n",
       "</table>\n",
       "<p>1048575 rows × 0 columns</p>\n",
       "</div>"
      ],
      "text/plain": [
       "Empty DataFrame\n",
       "Columns: []\n",
       "Index: [0, 1, 2, 3, 4, 5, 6, 7, 8, 9, 10, 11, 12, 13, 14, 15, 16, 17, 18, 19, 20, 21, 22, 23, 24, 25, 26, 27, 28, 29, 30, 31, 32, 33, 34, 35, 36, 37, 38, 39, 40, 41, 42, 43, 44, 45, 46, 47, 48, 49, 50, 51, 52, 53, 54, 55, 56, 57, 58, 59, 60, 61, 62, 63, 64, 65, 66, 67, 68, 69, 70, 71, 72, 73, 74, 75, 76, 77, 78, 79, 80, 81, 82, 83, 84, 85, 86, 87, 88, 89, 90, 91, 92, 93, 94, 95, 96, 97, 98, 99, ...]\n",
       "\n",
       "[1048575 rows x 0 columns]"
      ]
     },
     "execution_count": 8,
     "metadata": {},
     "output_type": "execute_result"
    }
   ],
   "source": [
    "import pandas as pd\n",
    "\n",
    "\n",
    "df = pd.read_csv('Dataset-Unicauca-Version2-87Atts.csv')\n",
    "\n",
    "df[[]].where(df[[]].isnull().all())"
   ]
  },
  {
   "cell_type": "code",
   "execution_count": null,
   "id": "3714a9ae",
   "metadata": {},
   "outputs": [],
   "source": []
  }
 ],
 "metadata": {
  "kernelspec": {
   "display_name": "Python 3 (ipykernel)",
   "language": "python",
   "name": "python3"
  },
  "language_info": {
   "codemirror_mode": {
    "name": "ipython",
    "version": 3
   },
   "file_extension": ".py",
   "mimetype": "text/x-python",
   "name": "python",
   "nbconvert_exporter": "python",
   "pygments_lexer": "ipython3",
   "version": "3.11.5"
  }
 },
 "nbformat": 4,
 "nbformat_minor": 5
}
